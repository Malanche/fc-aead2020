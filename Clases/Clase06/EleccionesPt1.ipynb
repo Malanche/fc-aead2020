{
 "cells": [
  {
   "cell_type": "markdown",
   "metadata": {},
   "source": [
    "# Poniendo en práctica lo aprendido"
   ]
  },
  {
   "cell_type": "markdown",
   "metadata": {},
   "source": [
    "El ejercicio de las siguientes dos clases consistirá en poner en práctica lo aprendido durante las clases pasadas (cálculo de cuantiles, momentos, identificación de valores atípicos) y vamos a añadir la parte computacional (graficar principalmente).\n",
    "\n",
    "Este ejercicio yo lo realicé hace varios años en un curso de cómputo aquí en la facultad con un profesor excelente, pero utilizamos herramientas un poco más _arcaicas_ (`awk`). Esta vez repetiremos el ejercicio juntos pero con pandas."
   ]
  },
  {
   "cell_type": "code",
   "execution_count": null,
   "metadata": {},
   "outputs": [],
   "source": [
    "import pandas as pd\n",
    "import numpy as np\n",
    "import matplotlib.pyplot as plt\n",
    "import folium"
   ]
  },
  {
   "cell_type": "markdown",
   "metadata": {},
   "source": [
    "## Elecciones presidenciales del 2006"
   ]
  },
  {
   "cell_type": "markdown",
   "metadata": {},
   "source": [
    "Comenzaremos por cargar el archivo de datos. Se encuentra abajo. Les voy a ayudar pues no es un csv, pero es basicamente lo mismo, sólo que el lugar de usar comas utiliza esta cosa: | (pipe).\n",
    "\n",
    "El contenido del archivo se encuentra explicado por el mismisimo IFE (cuando aún era IFE, en mis tiempos) en el pdf explicacion.pdf. Léanlo para entender lo que es cada columna (**en verdad háganlo, porque con el ID no les va a ser suficiente. Y a la mejor después de leerlo de todos modos no queda claro...**), conserven los nombres de las columnas aunque sean horribles y largos. Utilicen pues la función `pd.read_csv()` con los argumentos adecuados para cargar el csv a una variable llamada datos.\n",
    "\n",
    "**TRUCO**: si colocan el cursor en el paréntesis de la función y presionan shift+tab les va a decir cuales son los argumentos que la función espera. Es superútil!"
   ]
  },
  {
   "cell_type": "code",
   "execution_count": null,
   "metadata": {},
   "outputs": [],
   "source": [
    "datos = ???\n",
    "print(\"Número de entradas:\", datos.shape[0])\n",
    "datos.head()"
   ]
  },
  {
   "cell_type": "markdown",
   "metadata": {},
   "source": [
    "Como pueden ver, se han cargado las 23 columnas descritas en el pdf. Para que sea un poco más entendible a nosotros, vamos a comenzar por reemplazar la columna de ID_ESTADO por ESTADO. El siguiente diccionario mapea los identificadores a los estados correspondientes"
   ]
  },
  {
   "cell_type": "code",
   "execution_count": null,
   "metadata": {},
   "outputs": [],
   "source": [
    "id2state = {1: 'Aguascalientes', 2:'Baja California', 3: 'Baja California Sur', 4: 'Campeche',\n",
    "           5: 'Coahuila', 6: 'Colima', 7: 'Chiapas', 8: 'Chihuahua', 9:'CDMX', 10: 'Durango',\n",
    "           11: 'Guanajuato', 12: 'Guerrero', 13: 'Hidalgo', 14: 'Jalisco', 15: 'México',\n",
    "           16: 'Michoacán', 17: 'Morelos', 18: 'Nayarit', 19: 'Nuevo León', 20: 'Oaxaca',\n",
    "           21: 'Puebla', 22: 'Querétaro', 23: 'Quintana Roo', 24: 'San Luis Potosí',\n",
    "           25: 'Sinaloa', 26: 'Sonora', 27: 'Tabasco', 28: 'Tamaulipas', 29: 'Tlaxcala',\n",
    "           30: 'Veracruz', 31: 'Yucatán', 32: 'Zacatecas'}"
   ]
  },
  {
   "cell_type": "code",
   "execution_count": null,
   "metadata": {},
   "outputs": [],
   "source": [
    "#Su respuesta aquí"
   ]
  },
  {
   "cell_type": "markdown",
   "metadata": {},
   "source": [
    "El archivo contiene sólo los datos para elección presidencial, pero están divididos en dos grupos: Voto extranjero y no extranjero. genere un nuevo DF donde estén los votos del extranjero únicamente, y uno en que estén los votos restantes. En ambos DF puede eliminar la columna `TIPO_CANDIDATURA`. Es una buena práctica en general conservar el arreglo original (nótese que nosotros ya rompimos esa regla al reemplazar el nombre de una de las columnas, pero toda la información sigue ahí)"
   ]
  },
  {
   "cell_type": "code",
   "execution_count": null,
   "metadata": {},
   "outputs": [],
   "source": [
    "#Su respuesta aquí\n",
    "votoExtranjero = ???\n",
    "votoLocal = ???"
   ]
  },
  {
   "cell_type": "markdown",
   "metadata": {},
   "source": [
    "## Estadística general"
   ]
  },
  {
   "cell_type": "markdown",
   "metadata": {},
   "source": [
    "Como primera tarea, verifique que los datos que tenemos coinciden con lo reportado por el IFE. Es decir, busque los porcentajes de votaciones para cada partido, el número de votos totales y vea que son los mismos que el IFE anunció. Observe que hay campos de \"Votos Nulos\", campos de \"Votos totales\" y campos de \"Votos totales\". Al comparar con lo reportado en otros lados usted comprenderá mejor lo que significa cada campo."
   ]
  },
  {
   "cell_type": "code",
   "execution_count": null,
   "metadata": {},
   "outputs": [],
   "source": [
    "# Su respuesta aquí"
   ]
  },
  {
   "cell_type": "markdown",
   "metadata": {},
   "source": [
    "## Búsqueda de anomalías"
   ]
  },
  {
   "cell_type": "markdown",
   "metadata": {},
   "source": [
    "Lo primero es ver el tipo de datos que tenemos ahora. Conteste las siguientes preguntas."
   ]
  },
  {
   "cell_type": "markdown",
   "metadata": {},
   "source": [
    "#### 1.1 NaN's (información faltante)"
   ]
  },
  {
   "cell_type": "markdown",
   "metadata": {},
   "source": [
    "Hay Nan's en algunas columnas? Cuáles? Qué importancia tiene esto?"
   ]
  },
  {
   "cell_type": "code",
   "execution_count": null,
   "metadata": {},
   "outputs": [],
   "source": [
    "# Su respuesta aquí"
   ]
  },
  {
   "cell_type": "markdown",
   "metadata": {},
   "source": [
    "#### 1.2 Lista nominal"
   ]
  },
  {
   "cell_type": "markdown",
   "metadata": {},
   "source": [
    "Calcule el porcentaje de participación al comparar con la gente que estaba anunciada para votar: es decir, sume los valores de las listas nominales y comparelos con los votos totales. Este número **no** puede ser mayor al número de votos, y note porfavor que sólo porque el resultado global acatará esto, no quiere decir que en cada casilla haya ocurrido. Busque **casilla por casilla** si en verdad hay menos votos que gente en las listas nominales."
   ]
  },
  {
   "cell_type": "code",
   "execution_count": null,
   "metadata": {},
   "outputs": [],
   "source": []
  },
  {
   "cell_type": "markdown",
   "metadata": {},
   "source": [
    "## Estadística por estados"
   ]
  },
  {
   "cell_type": "markdown",
   "metadata": {},
   "source": [
    "#### 2.1 Participación"
   ]
  },
  {
   "cell_type": "markdown",
   "metadata": {},
   "source": [
    "Comienze por calcular cuántos votos hubo por estado (busque lo que hace la función `groupby` de pandas) y comparelos con la lista nominal de dicho estado (la suma, vaya). Cuál fue el estado con la participación más alta?"
   ]
  },
  {
   "cell_type": "code",
   "execution_count": null,
   "metadata": {},
   "outputs": [],
   "source": [
    "# Su respuesta aquí"
   ]
  },
  {
   "cell_type": "markdown",
   "metadata": {},
   "source": [
    "## Mapa de preferencias"
   ]
  },
  {
   "cell_type": "markdown",
   "metadata": {},
   "source": [
    "Utilice Folium para indicar _qué color era cada estado_. Es decir, utilice `groupby` nuevamente para clasificar por estados, y encuentre el máximo de las columnas \"PAN\", \"APM\", \"PBT\", \"NA\" y \"ASDC\". Puede utilizar el vector de colores definido al principio para colorear los estados."
   ]
  },
  {
   "cell_type": "code",
   "execution_count": null,
   "metadata": {},
   "outputs": [],
   "source": [
    "def party2color(feature, mayorias):\n",
    "    colors = {'PAN': \"#2f35e5\", 'APM': \"#32d24b\", 'PBT': \"#e6d775\"} #Los demás no van a aparecer.\n",
    "    return colors[mayorias.loc[feature[\"properties\"][\"NOM_ENT\"]]]"
   ]
  },
  {
   "cell_type": "code",
   "execution_count": null,
   "metadata": {},
   "outputs": [],
   "source": [
    "# Calcule la serie de mayorías: Como ID debe estar el estado, como columna una llamada \"Ganador\" que contenga\n",
    "# el nombre de la columna ganadora de votos"
   ]
  }
 ],
 "metadata": {
  "kernelspec": {
   "display_name": "Python 3",
   "language": "python",
   "name": "python3"
  },
  "language_info": {
   "codemirror_mode": {
    "name": "ipython",
    "version": 3
   },
   "file_extension": ".py",
   "mimetype": "text/x-python",
   "name": "python",
   "nbconvert_exporter": "python",
   "pygments_lexer": "ipython3",
   "version": "3.7.4"
  }
 },
 "nbformat": 4,
 "nbformat_minor": 2
}
